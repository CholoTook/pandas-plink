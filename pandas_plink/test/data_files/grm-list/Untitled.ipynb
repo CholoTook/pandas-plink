{
 "cells": [
  {
   "cell_type": "code",
   "execution_count": 32,
   "metadata": {},
   "outputs": [],
   "source": [
    "import numpy as np\n",
    "import pandas as pd\n",
    "import xarray as xr"
   ]
  },
  {
   "cell_type": "code",
   "execution_count": 46,
   "metadata": {},
   "outputs": [],
   "source": [
    "df = pd.read_csv(\"plink2.grm\", sep=\"\\t\", header=None)\n",
    "df_id = pd.read_csv(\"plink2.grm.id\", sep=\"\\t\", header=None)\n",
    "n = int(df.iloc[-1, 0])\n",
    "x = np.asarray(df.iloc[:, 0] - 1, int)\n",
    "y = np.asarray(df.iloc[:, 1] - 1, int)"
   ]
  },
  {
   "cell_type": "code",
   "execution_count": 47,
   "metadata": {},
   "outputs": [],
   "source": [
    "K = np.zeros((n, n))\n",
    "K[x, y] = df.iloc[:, 3]\n",
    "K = K + np.tril(K, -1).T\n",
    "K = xr.DataArray(K, dims=[\"sample_0\", \"sample_1\"], coords=(df_id.iloc[:, 1], df_id.iloc[:, 1]))"
   ]
  },
  {
   "cell_type": "code",
   "execution_count": 48,
   "metadata": {},
   "outputs": [],
   "source": [
    "K = K.assign_coords(**{\"fid\": (\"sample_0\", df_id.iloc[:, 0])})\n",
    "K = K.assign_coords(**{\"fid\": (\"sample_1\", df_id.iloc[:, 0])})\n",
    "\n",
    "K = K.assign_coords(**{\"iid\": (\"sample_0\", df_id.iloc[:, 1])})\n",
    "K = K.assign_coords(**{\"iid\": (\"sample_1\", df_id.iloc[:, 1])})"
   ]
  },
  {
   "cell_type": "code",
   "execution_count": 49,
   "metadata": {},
   "outputs": [
    {
     "data": {
      "text/plain": [
       "<xarray.DataArray (sample_0: 10, sample_1: 10)>\n",
       "array([[ 0.885782,  0.233846, -0.186339, -0.009789, -0.138897,  0.287779,\n",
       "         0.269977, -0.231279, -0.095472, -0.213979],\n",
       "       [ 0.233846,  1.07749 , -0.452858,  0.192877, -0.186027,  0.171027,\n",
       "         0.406056, -0.013149, -0.131477, -0.134314],\n",
       "       [-0.186339, -0.452858,  1.18331 , -0.040948, -0.146034, -0.20451 ,\n",
       "        -0.314808, -0.042503,  0.296828, -0.011661],\n",
       "       [-0.009789,  0.192877, -0.040948,  0.89536 , -0.068605,  0.012023,\n",
       "         0.057827, -0.192152, -0.089094,  0.174269],\n",
       "       [-0.138897, -0.186027, -0.146034, -0.068605,  1.18324 ,  0.085104,\n",
       "        -0.032974,  0.103608,  0.215769,  0.166648],\n",
       "       [ 0.287779,  0.171027, -0.20451 ,  0.012023,  0.085104,  0.956921,\n",
       "         0.065427, -0.043752, -0.091492, -0.227673],\n",
       "       [ 0.269977,  0.406056, -0.314808,  0.057827, -0.032974,  0.065427,\n",
       "         0.714746, -0.101254, -0.088171, -0.063964],\n",
       "       [-0.231279, -0.013149, -0.042503, -0.192152,  0.103608, -0.043752,\n",
       "        -0.101254,  1.42303 , -0.298255, -0.074333],\n",
       "       [-0.095472, -0.131477,  0.296828, -0.089094,  0.215769, -0.091492,\n",
       "        -0.088171, -0.298255,  0.910274, -0.024663],\n",
       "       [-0.213979, -0.134314, -0.011661,  0.174269,  0.166648, -0.227673,\n",
       "        -0.063964, -0.074333, -0.024663,  0.914586]])\n",
       "Coordinates:\n",
       "  * sample_0  (sample_0) object 'HG00419' 'HG00650' ... 'NA20508' 'NA20753'\n",
       "  * sample_1  (sample_1) object 'HG00419' 'HG00650' ... 'NA20508' 'NA20753'\n",
       "    fid       (sample_1) object 'HG00419' 'HG00650' ... 'NA20508' 'NA20753'\n",
       "    iid       (sample_1) object 'HG00419' 'HG00650' ... 'NA20508' 'NA20753'"
      ]
     },
     "execution_count": 49,
     "metadata": {},
     "output_type": "execute_result"
    }
   ],
   "source": [
    "K"
   ]
  },
  {
   "cell_type": "code",
   "execution_count": 73,
   "metadata": {},
   "outputs": [],
   "source": [
    "n_snps = np.asarray(df.iloc[:, 2], int)"
   ]
  },
  {
   "cell_type": "markdown",
   "metadata": {},
   "source": [
    "# Test"
   ]
  },
  {
   "cell_type": "code",
   "execution_count": 69,
   "metadata": {},
   "outputs": [],
   "source": [
    "from numpy.testing import assert_almost_equal, assert_equal"
   ]
  },
  {
   "cell_type": "code",
   "execution_count": 70,
   "metadata": {},
   "outputs": [],
   "source": [
    "assert_almost_equal([K.data[0, 0], K.data[-2, 5]], [0.885782, -0.0914917])"
   ]
  },
  {
   "cell_type": "code",
   "execution_count": 72,
   "metadata": {},
   "outputs": [],
   "source": [
    "assert_equal(K.sample_0[4].data, \"NA12489\")"
   ]
  },
  {
   "cell_type": "code",
   "execution_count": 75,
   "metadata": {},
   "outputs": [],
   "source": [
    "assert_equal(n_snps[3], 50)"
   ]
  },
  {
   "cell_type": "code",
   "execution_count": null,
   "metadata": {},
   "outputs": [],
   "source": []
  }
 ],
 "metadata": {
  "kernelspec": {
   "display_name": "Python 3",
   "language": "python",
   "name": "python3"
  },
  "language_info": {
   "codemirror_mode": {
    "name": "ipython",
    "version": 3
   },
   "file_extension": ".py",
   "mimetype": "text/x-python",
   "name": "python",
   "nbconvert_exporter": "python",
   "pygments_lexer": "ipython3",
   "version": "3.7.3"
  }
 },
 "nbformat": 4,
 "nbformat_minor": 2
}
